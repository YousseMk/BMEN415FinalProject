{
  "nbformat": 4,
  "nbformat_minor": 0,
  "metadata": {
    "kernelspec": {
      "display_name": "Python 3",
      "language": "python",
      "name": "python3"
    },
    "language_info": {
      "codemirror_mode": {
        "name": "ipython",
        "version": 3
      },
      "file_extension": ".py",
      "mimetype": "text/x-python",
      "name": "python",
      "nbconvert_exporter": "python",
      "pygments_lexer": "ipython3",
      "version": "3.7.3"
    },
    "colab": {
      "name": "BirthWeight_Curation_Models.ipynb",
      "provenance": [],
      "collapsed_sections": []
    }
  },
  "cells": [
    {
      "cell_type": "code",
      "metadata": {
        "id": "ca5qFCN7MvRe"
      },
      "source": [
        "import pandas as pd \n",
        "import matplotlib.pyplot as plt\n",
        "data = pd.read_csv(\"2008_births.csv\")\n",
        "data\n"
      ],
      "execution_count": null,
      "outputs": []
    },
    {
      "cell_type": "code",
      "metadata": {
        "id": "3M8Yhei4MvRg"
      },
      "source": [
        "import numpy as np \n",
        "from sklearn.model_selection import train_test_split"
      ],
      "execution_count": null,
      "outputs": []
    },
    {
      "cell_type": "code",
      "metadata": {
        "id": "66M1eUjRMvRh"
      },
      "source": [
        "#birthweight is what we want to predict - change this to single target \n",
        "birth_weight = data[['BPOUND', 'BOUNCE']] "
      ],
      "execution_count": null,
      "outputs": []
    },
    {
      "cell_type": "code",
      "metadata": {
        "id": "0NOkzXSgMvRh"
      },
      "source": [
        "#PCA might be a good technique to select predictors \n",
        "\n",
        "#note that PCA performs best when data is normalized (range b/w 0 and 1)\n",
        "\n",
        "#It is possible to use categorical and continuous predictors \n",
        "#for a regression problem. My understanding is you need to make \n",
        "#dummy variables for the binary predictors. \n",
        "\n",
        "#Variables that we will need to deal with: \n",
        "# BDATE, HISPMOM, HISPDAD"
      ],
      "execution_count": null,
      "outputs": []
    },
    {
      "cell_type": "code",
      "metadata": {
        "id": "oFGHanPsMvRi"
      },
      "source": [
        "#Attempting PCA on data\n",
        "#for now I drop the BDATE, HISPMOM AND HISPDAD\n",
        "data_drop = data.drop([\"BDATE\", \"HISPMOM\", \"HISPDAD\", \"BOUNCE\", \"BPOUND\"], axis = 1) #axis = 1 means to drop column not row"
      ],
      "execution_count": null,
      "outputs": []
    },
    {
      "cell_type": "code",
      "metadata": {
        "id": "ZrXh3ThZMvRi"
      },
      "source": [
        "#get a list of columns in pandas object \n",
        "names_of_data = data_drop.columns.tolist()\n",
        "\n",
        "#shuffle = false prevents data split being different everytime\n",
        "X_train, X_test, y_train, y_test = train_test_split(data_drop, birth_weight, test_size = 0.2, shuffle = False)\n",
        "\n",
        "#split test into validate and test, again making sure the data is always the same for consistency\n",
        "#X_test, X_val, y_test, y_val = train_test_split(X_test, y_test, test_size=0.25, shuffle = False)\n",
        "\n",
        "#Normalizing the data\n",
        "from sklearn.preprocessing import StandardScaler\n",
        "sc = StandardScaler()\n",
        "X_train = sc.fit_transform(X_train)\n",
        "X_test = sc.transform(X_test)\n",
        "\n",
        "#running the actual PCA\n",
        "from sklearn.decomposition import PCA\n",
        "\n",
        "pca = PCA()\n",
        "X_train = pca.fit_transform(X_train)\n",
        "X_test = pca.transform(X_test)\n",
        "\n",
        "#relief f algorithm - sorting features "
      ],
      "execution_count": null,
      "outputs": []
    },
    {
      "cell_type": "code",
      "metadata": {
        "id": "OrfrOPUVMvRi",
        "colab": {
          "base_uri": "https://localhost:8080/"
        },
        "outputId": "18e4f6a2-94cc-496f-c175-7ea8c7fa3557"
      },
      "source": [
        "explained_variance = pca.explained_variance_ratio_\n",
        "print(len(explained_variance))\n",
        "print(explained_variance)"
      ],
      "execution_count": null,
      "outputs": [
        {
          "output_type": "stream",
          "text": [
            "120\n",
            "[3.89856404e-02 3.41089470e-02 3.05310536e-02 2.86690661e-02\n",
            " 2.39828710e-02 2.07124228e-02 1.81565355e-02 1.70798239e-02\n",
            " 1.68763289e-02 1.59961073e-02 1.56220702e-02 1.35585642e-02\n",
            " 1.30251204e-02 1.13087563e-02 1.10457470e-02 1.09427186e-02\n",
            " 1.06522571e-02 1.03091115e-02 1.02034145e-02 1.01603763e-02\n",
            " 9.98586972e-03 9.86404012e-03 9.78778404e-03 9.61165628e-03\n",
            " 9.46902421e-03 9.40630729e-03 9.25092446e-03 9.20797437e-03\n",
            " 9.16882901e-03 9.11728971e-03 9.08471022e-03 9.05880935e-03\n",
            " 8.91090184e-03 8.85632587e-03 8.83902308e-03 8.82366452e-03\n",
            " 8.73228213e-03 8.70972804e-03 8.64475483e-03 8.63888132e-03\n",
            " 8.60300393e-03 8.57402898e-03 8.54542908e-03 8.51710741e-03\n",
            " 8.50298288e-03 8.46111398e-03 8.42122923e-03 8.39505222e-03\n",
            " 8.37548109e-03 8.34046815e-03 8.29732609e-03 8.28947627e-03\n",
            " 8.24895028e-03 8.22904830e-03 8.20238682e-03 8.12690154e-03\n",
            " 8.11341630e-03 8.08291392e-03 8.07851589e-03 8.03763212e-03\n",
            " 8.01473052e-03 7.96613523e-03 7.90999598e-03 7.89944166e-03\n",
            " 7.83600377e-03 7.82191448e-03 7.78512254e-03 7.75691445e-03\n",
            " 7.69956508e-03 7.66449230e-03 7.60968558e-03 7.58920895e-03\n",
            " 7.51965207e-03 7.50072699e-03 7.41546041e-03 7.36057792e-03\n",
            " 7.17224177e-03 7.11636014e-03 7.01568819e-03 6.99311496e-03\n",
            " 6.88970752e-03 6.80287045e-03 6.71667348e-03 6.59331242e-03\n",
            " 6.56011619e-03 6.39097514e-03 6.21038587e-03 6.13263995e-03\n",
            " 6.02101475e-03 5.88755078e-03 5.62716616e-03 5.49427350e-03\n",
            " 5.42691648e-03 5.30849077e-03 5.16759622e-03 4.77164460e-03\n",
            " 4.64430993e-03 4.52817477e-03 4.35785968e-03 4.10170975e-03\n",
            " 3.95902522e-03 3.70091254e-03 3.10259706e-03 2.89941030e-03\n",
            " 2.48400831e-03 1.79876640e-03 1.72329185e-03 9.56485073e-04\n",
            " 9.01290670e-04 6.15880756e-04 5.54770674e-04 2.94096489e-04\n",
            " 1.90827613e-04 3.83559595e-08 7.68856124e-33 2.96807199e-33\n",
            " 9.98109174e-34 9.84374599e-34 4.90840852e-34 2.29359132e-35]\n"
          ],
          "name": "stdout"
        }
      ]
    },
    {
      "cell_type": "code",
      "metadata": {
        "id": "CXz2Y1vIUV3c"
      },
      "source": [
        "from sklearn.metrics import mean_squared_error"
      ],
      "execution_count": null,
      "outputs": []
    },
    {
      "cell_type": "code",
      "metadata": {
        "id": "TW3NMCcDMvRi"
      },
      "source": [
        "#Explained variance prints the variance each principal component contributes.\n",
        "#As we can see, the last 5 contribute very little (maybe we can get rid of?)\n",
        "\n",
        "#We also want to check for linearity between the input predictors and the output \n",
        "#If there is high colinearity, then we want to use ridge regression - A variant of lin regression that has regulatization\n",
        "\n",
        "#Correlation indicates strength and direction of a linear relationship. let's use this on the predictors "
      ],
      "execution_count": null,
      "outputs": []
    },
    {
      "cell_type": "markdown",
      "metadata": {
        "id": "OPpqUMEHPEWL"
      },
      "source": [
        "## Linear Regression Model"
      ]
    },
    {
      "cell_type": "code",
      "metadata": {
        "id": "e1Jdk9FlOrdi"
      },
      "source": [
        "#importing the linear regression library from sklearn \n",
        "from sklearn.linear_model import LinearRegression"
      ],
      "execution_count": null,
      "outputs": []
    },
    {
      "cell_type": "code",
      "metadata": {
        "id": "tdzT-RUFOwag"
      },
      "source": [
        "#initalizing \n",
        "reg0 = LinearRegression()"
      ],
      "execution_count": null,
      "outputs": []
    },
    {
      "cell_type": "code",
      "metadata": {
        "colab": {
          "base_uri": "https://localhost:8080/"
        },
        "id": "yP3OblI2O1PD",
        "outputId": "9e9aa097-07c8-4467-f626-c7068db27440"
      },
      "source": [
        "#fitting the data to train the model\n",
        "reg0.fit(X_train,y_train)"
      ],
      "execution_count": null,
      "outputs": [
        {
          "output_type": "execute_result",
          "data": {
            "text/plain": [
              "LinearRegression(copy_X=True, fit_intercept=True, n_jobs=None, normalize=False)"
            ]
          },
          "metadata": {
            "tags": []
          },
          "execution_count": 47
        }
      ]
    },
    {
      "cell_type": "code",
      "metadata": {
        "colab": {
          "base_uri": "https://localhost:8080/"
        },
        "id": "yPIp5WtMO5Zr",
        "outputId": "b736fe71-9f24-4707-f425-f299ec60fa6f"
      },
      "source": [
        "# R^2 Score to determine the varaiance   \n",
        "reg0.score(X_test,y_test) "
      ],
      "execution_count": null,
      "outputs": [
        {
          "output_type": "stream",
          "text": [
            "/usr/local/lib/python3.7/dist-packages/sklearn/base.py:434: FutureWarning: The default value of multioutput (not exposed in score method) will change from 'variance_weighted' to 'uniform_average' in 0.23 to keep consistent with 'metrics.r2_score'. To specify the default value manually and avoid the warning, please either call 'metrics.r2_score' directly or make a custom scorer with 'metrics.make_scorer' (the built-in scorer 'r2' uses multioutput='uniform_average').\n",
            "  \"multioutput='uniform_average').\", FutureWarning)\n"
          ],
          "name": "stderr"
        },
        {
          "output_type": "execute_result",
          "data": {
            "text/plain": [
              "-1.1539563533533953e+24"
            ]
          },
          "metadata": {
            "tags": []
          },
          "execution_count": 48
        }
      ]
    },
    {
      "cell_type": "code",
      "metadata": {
        "colab": {
          "base_uri": "https://localhost:8080/",
          "height": 296
        },
        "id": "jSxwuTObd6Gy",
        "outputId": "99fb3a1b-17d4-4dce-b9b3-57eadd893927"
      },
      "source": [
        "#plot of unity where the x axis is the predicted output and y-axis is the expected value \n",
        "#this is similar to the confusion matrix as we want as the points to fit y=x.\n",
        "\n",
        "y_pred = reg0.predict(X_test)\n",
        "plt.scatter(y_pred, y_test)\n",
        "plt.plot(y_test,y_test)\n",
        "plt.xlabel(\"predicted\")\n",
        "plt.ylabel(\"expected\")\n"
      ],
      "execution_count": null,
      "outputs": [
        {
          "output_type": "execute_result",
          "data": {
            "text/plain": [
              "Text(0, 0.5, 'expected')"
            ]
          },
          "metadata": {
            "tags": []
          },
          "execution_count": 49
        },
        {
          "output_type": "display_data",
          "data": {
            "image/png": "[encoded data removed]",
            "text/plain": [
              "<Figure size 432x288 with 1 Axes>"
            ]
          },
          "metadata": {
            "tags": [],
            "needs_background": "light"
          }
        }
      ]
    },
    {
      "cell_type": "code",
      "metadata": {
        "colab": {
          "base_uri": "https://localhost:8080/"
        },
        "id": "WhXrbQ17UXvG",
        "outputId": "9cf7d88a-efb9-4b42-c210-37fd72f210a1"
      },
      "source": [
        "#calculating the mean square error which is quite high for this model, suggesting that the data is not linear \n",
        "mean_squared_error(y_pred=y_pred,y_true=y_test)"
      ],
      "execution_count": null,
      "outputs": [
        {
          "output_type": "execute_result",
          "data": {
            "text/plain": [
              "1.7088583595092018e+25"
            ]
          },
          "metadata": {
            "tags": []
          },
          "execution_count": 50
        }
      ]
    },
    {
      "cell_type": "markdown",
      "metadata": {
        "id": "Wlw31mV_PR2e"
      },
      "source": [
        "## Random Forest Regression"
      ]
    },
    {
      "cell_type": "code",
      "metadata": {
        "id": "__Spw37zPTuX"
      },
      "source": [
        "from sklearn.ensemble import RandomForestRegressor"
      ],
      "execution_count": null,
      "outputs": []
    },
    {
      "cell_type": "code",
      "metadata": {
        "id": "8zdo5nagPUMC"
      },
      "source": [
        "#initalizing random forest with 50 estimaters and max_depth of 5 to increase the accuracy while making sure to not over-fit the data \n",
        "reg = RandomForestRegressor(n_estimators=500, max_depth=5, random_state=33, n_jobs=6)\n",
        "reg.fit(X_train,y_train)\n",
        "reg.score(X_test,y_test)"
      ],
      "execution_count": null,
      "outputs": []
    },
    {
      "cell_type": "code",
      "metadata": {
        "id": "mDfC0Bmqd1qb"
      },
      "source": [
        "#plot of unity \n",
        "y_pred = reg.predict(X_test)\n",
        "plt.scatter(y_pred, y_test)\n",
        "plt.plot(y_test,y_test)\n",
        "plt.xlabel(\"predicted\")\n",
        "plt.ylabel(\"expected\")"
      ],
      "execution_count": null,
      "outputs": []
    },
    {
      "cell_type": "code",
      "metadata": {
        "id": "wtZdR-CaPkkQ"
      },
      "source": [
        "mean_squared_error(y_pred=reg.predict(X_test),y_true=y_test)"
      ],
      "execution_count": null,
      "outputs": []
    },
    {
      "cell_type": "markdown",
      "metadata": {
        "id": "buIEVtinTUxR"
      },
      "source": [
        "[link text](https://)## Deep Neural Network"
      ]
    },
    {
      "cell_type": "code",
      "metadata": {
        "id": "enO0KCchyQIg"
      },
      "source": [
        "#Made my own model using back propagation \n",
        "#Importing relevant libraries for model creation and training \n",
        "#followed this tutoial to implement this model: https://www.tensorflow.org/tutorials/keras/regression\n",
        "import tensorflow as tf\n",
        "from tensorflow import keras\n",
        "from tensorflow.keras import layers\n",
        "from tensorflow.keras.layers.experimental import preprocessing"
      ],
      "execution_count": null,
      "outputs": []
    },
    {
      "cell_type": "code",
      "metadata": {
        "id": "d6DY7nJnVlCE"
      },
      "source": [
        "#initalize a normalizer to scale the input data\n",
        "normalizer = preprocessing.Normalization()\n"
      ],
      "execution_count": null,
      "outputs": []
    },
    {
      "cell_type": "code",
      "metadata": {
        "id": "I9Wgxt4NVlQ3"
      },
      "source": [
        "#created a model with 5 hidden layers using sigmoid activation because Relu could go to infinity \n",
        "model = keras.Sequential([\n",
        "                          normalizer,\n",
        "    layers.Dense(64, activation='sigmoid'),\n",
        "    layers.Dense(64, activation='sigmoid'),\n",
        "    layers.Dense(128, activation='sigmoid'),\n",
        "    layers.Dense(64, activation='sigmoid'),\n",
        "    layers.Dense(64, activation='sigmoid'),\n",
        "    layers.Dense(2)\n",
        "])\n",
        "# want the model to minimize mean sqaure error, and set the optimizer to adam as it is the most efficient for this case\n",
        "model.compile(loss='mean_squared_error',\n",
        "            optimizer=tf.keras.optimizers.Adam(0.001))"
      ],
      "execution_count": null,
      "outputs": []
    },
    {
      "cell_type": "code",
      "metadata": {
        "id": "mNs2L5YNVtUD"
      },
      "source": [
        "#running 20 epochs to minimize overfitting \n",
        "history = model.fit(\n",
        "    X_train, y_train,\n",
        "    validation_split=0.2, #20% validation split for back propogation \n",
        "    verbose=2, epochs=20)"
      ],
      "execution_count": null,
      "outputs": []
    },
    {
      "cell_type": "code",
      "metadata": {
        "id": "DKjeB5BzV0cW"
      },
      "source": [
        "#getting the predictions of the model\n",
        "y_pred = model.predict(X_test)"
      ],
      "execution_count": null,
      "outputs": []
    },
    {
      "cell_type": "code",
      "metadata": {
        "id": "4ZWqYg3MaGKe"
      },
      "source": [
        "#calculating the mean sqaure error. This is significantly lower compared to the other two models implemented \n",
        "mean_squared_error(y_pred=y_pred,y_true=y_test)"
      ],
      "execution_count": null,
      "outputs": []
    },
    {
      "cell_type": "code",
      "metadata": {
        "id": "Hsci2tAKcKtR"
      },
      "source": [
        "plt.scatter(y_pred, y_test)\n",
        "plt.plot(y_test,y_test,'red')"
      ],
      "execution_count": null,
      "outputs": []
    },
    {
      "cell_type": "code",
      "metadata": {
        "id": "XxWAfT63IAf0"
      },
      "source": [
        ""
      ],
      "execution_count": null,
      "outputs": []
    }
  ]
}