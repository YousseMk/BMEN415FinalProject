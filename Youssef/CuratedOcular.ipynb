{
 "cells": [
  {
   "cell_type": "code",
   "execution_count": 139,
   "metadata": {},
   "outputs": [
    {
     "name": "stdout",
     "output_type": "stream",
     "text": [
      "        ID  Patient Age Patient Sex    Left-Fundus    Right-Fundus  \\\n",
      "0        0           69      Female     0_left.jpg     0_right.jpg   \n",
      "1        1           57        Male     1_left.jpg     1_right.jpg   \n",
      "2        2           42        Male     2_left.jpg     2_right.jpg   \n",
      "3        4           53        Male     4_left.jpg     4_right.jpg   \n",
      "4        5           50      Female     5_left.jpg     5_right.jpg   \n",
      "...    ...          ...         ...            ...             ...   \n",
      "6387  4686           63        Male  4686_left.jpg  4686_right.jpg   \n",
      "6388  4688           42        Male  4688_left.jpg  4688_right.jpg   \n",
      "6389  4689           54        Male  4689_left.jpg  4689_right.jpg   \n",
      "6390  4690           57        Male  4690_left.jpg  4690_right.jpg   \n",
      "6391  4784           58        Male  4784_left.jpg  4784_right.jpg   \n",
      "\n",
      "                               Left-Diagnostic Keywords  \\\n",
      "0                                              cataract   \n",
      "1                                         normal fundus   \n",
      "2     laser spot，moderate non proliferative retinopathy   \n",
      "3                           macular epiretinal membrane   \n",
      "4                moderate non proliferative retinopathy   \n",
      "...                                                 ...   \n",
      "6387                severe nonproliferative retinopathy   \n",
      "6388             moderate non proliferative retinopathy   \n",
      "6389                  mild nonproliferative retinopathy   \n",
      "6390                  mild nonproliferative retinopathy   \n",
      "6391  hypertensive retinopathy，age-related macular d...   \n",
      "\n",
      "                              Right-Diagnostic Keywords  N  D  G  C  A  H  M  \\\n",
      "0                                         normal fundus  0  0  0  1  0  0  0   \n",
      "1                                         normal fundus  1  0  0  0  0  0  0   \n",
      "2                moderate non proliferative retinopathy  0  1  0  0  0  0  0   \n",
      "3                     mild nonproliferative retinopathy  0  1  0  0  0  0  0   \n",
      "4                moderate non proliferative retinopathy  0  1  0  0  0  0  0   \n",
      "...                                                 ... .. .. .. .. .. .. ..   \n",
      "6387                 proliferative diabetic retinopathy  0  1  0  0  0  0  0   \n",
      "6388             moderate non proliferative retinopathy  0  1  0  0  0  0  0   \n",
      "6389                                      normal fundus  0  1  0  0  0  0  0   \n",
      "6390                  mild nonproliferative retinopathy  0  1  0  0  0  0  0   \n",
      "6391  hypertensive retinopathy，age-related macular d...  0  0  0  0  1  1  0   \n",
      "\n",
      "      O                                           filepath labels  \\\n",
      "0     0  ../input/ocular-disease-recognition-odir5k/ODI...  ['N']   \n",
      "1     0  ../input/ocular-disease-recognition-odir5k/ODI...  ['N']   \n",
      "2     1  ../input/ocular-disease-recognition-odir5k/ODI...  ['D']   \n",
      "3     1  ../input/ocular-disease-recognition-odir5k/ODI...  ['D']   \n",
      "4     0  ../input/ocular-disease-recognition-odir5k/ODI...  ['D']   \n",
      "...  ..                                                ...    ...   \n",
      "6387  0  ../input/ocular-disease-recognition-odir5k/ODI...  ['D']   \n",
      "6388  0  ../input/ocular-disease-recognition-odir5k/ODI...  ['D']   \n",
      "6389  0  ../input/ocular-disease-recognition-odir5k/ODI...  ['D']   \n",
      "6390  0  ../input/ocular-disease-recognition-odir5k/ODI...  ['D']   \n",
      "6391  0  ../input/ocular-disease-recognition-odir5k/ODI...  ['H']   \n",
      "\n",
      "                        target       filename  \n",
      "0     [1, 0, 0, 0, 0, 0, 0, 0]    0_right.jpg  \n",
      "1     [1, 0, 0, 0, 0, 0, 0, 0]    1_right.jpg  \n",
      "2     [0, 1, 0, 0, 0, 0, 0, 0]    2_right.jpg  \n",
      "3     [0, 1, 0, 0, 0, 0, 0, 0]    4_right.jpg  \n",
      "4     [0, 1, 0, 0, 0, 0, 0, 0]    5_right.jpg  \n",
      "...                        ...            ...  \n",
      "6387  [0, 1, 0, 0, 0, 0, 0, 0]  4686_left.jpg  \n",
      "6388  [0, 1, 0, 0, 0, 0, 0, 0]  4688_left.jpg  \n",
      "6389  [0, 1, 0, 0, 0, 0, 0, 0]  4689_left.jpg  \n",
      "6390  [0, 1, 0, 0, 0, 0, 0, 0]  4690_left.jpg  \n",
      "6391  [0, 0, 0, 0, 0, 1, 0, 0]  4784_left.jpg  \n",
      "\n",
      "[6392 rows x 19 columns]\n"
     ]
    }
   ],
   "source": [
    "import pandas as pd\n",
    "\n",
    "theFile = pd.read_csv(\"archive/full_df.csv\")\n",
    "print(theFile)"
   ]
  },
  {
   "cell_type": "code",
   "execution_count": 140,
   "metadata": {
    "scrolled": false
   },
   "outputs": [],
   "source": [
    "theFile.rename(columns = {\"labels\": \"target_diagnoses\"}, inplace=True)\n",
    "theFile[\"test_diagnoses\"] = \"\""
   ]
  },
  {
   "cell_type": "code",
   "execution_count": 141,
   "metadata": {},
   "outputs": [],
   "source": [
    "for row in theFile.itertuples():\n",
    "    current = theFile.at[row[0], 'test_diagnoses']\n",
    "    if(row[8] == 1):\n",
    "        theFile.at[row[0], 'test_diagnoses'] = 'N' + current \n",
    "        current = theFile.at[row[0], 'test_diagnoses']\n",
    "    if(row[9] == 1):\n",
    "        theFile.at[row[0], 'test_diagnoses'] = 'D' + current \n",
    "        current = theFile.at[row[0], 'test_diagnoses']\n",
    "    if(row[10] == 1):\n",
    "        theFile.at[row[0], 'test_diagnoses'] = 'G' + current \n",
    "        current = theFile.at[row[0], 'test_diagnoses']\n",
    "    if(row[11] == 1):\n",
    "        theFile.at[row[0], 'test_diagnoses'] = 'C' + current \n",
    "        current = theFile.at[row[0], 'test_diagnoses']\n",
    "    if(row[12] == 1):\n",
    "        theFile.at[row[0], 'test_diagnoses'] = 'A' + current \n",
    "        current = theFile.at[row[0], 'test_diagnoses']\n",
    "    if(row[13] == 1):\n",
    "        theFile.at[row[0], 'test_diagnoses'] = 'H' + current \n",
    "        current = theFile.at[row[0], 'test_diagnoses']\n",
    "    if(row[14] == 1):\n",
    "        theFile.at[row[0], 'test_diagnoses'] = 'M' + current \n",
    "        current = theFile.at[row[0], 'test_diagnoses']\n",
    "    if(row[15] == 1):\n",
    "        theFile.at[row[0], 'test_diagnoses'] = 'O' + current \n",
    "        current = theFile.at[row[0], 'test_diagnoses']\n",
    "\n",
    "        \n",
    "theFile = theFile.drop(['Left-Diagnostic Keywords', 'Right-Diagnostic Keywords', 'filepath', 'target', 'N', 'G', 'C','D', 'A', 'H', 'M', 'O'], axis=1)"
   ]
  },
  {
   "cell_type": "code",
   "execution_count": 142,
   "metadata": {},
   "outputs": [],
   "source": [
    "theFile.to_csv(r'/Users/youssef/Desktop/CurratedOccularData.csv')"
   ]
  }
 ],
 "metadata": {
  "kernelspec": {
   "display_name": "Python 3",
   "language": "python",
   "name": "python3"
  },
  "language_info": {
   "codemirror_mode": {
    "name": "ipython",
    "version": 3
   },
   "file_extension": ".py",
   "mimetype": "text/x-python",
   "name": "python",
   "nbconvert_exporter": "python",
   "pygments_lexer": "ipython3",
   "version": "3.8.5"
  }
 },
 "nbformat": 4,
 "nbformat_minor": 4
}
