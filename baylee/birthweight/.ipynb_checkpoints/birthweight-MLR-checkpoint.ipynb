{
 "cells": [
  {
   "cell_type": "markdown",
   "metadata": {},
   "source": [
    "# Birthweight Regression\n",
    "## Multiple Linear Regression"
   ]
  },
  {
   "cell_type": "code",
   "execution_count": 8,
   "metadata": {},
   "outputs": [
    {
     "name": "stdout",
     "output_type": "stream",
     "text": [
      "This are the columns of the features used\n",
      "['INST', 'RPLACE', 'RCOUNTY', 'PLURAL', 'BMONTH', 'BDAY', 'BYEAR', 'SEX', 'RACE', 'FAGE', 'MAGE', 'FEDUC', 'MEDUC', 'TOTALP', 'BDEAD', 'TERMS', 'LBDATE', 'LBMONTH', 'LBYEAR', 'LOUTCOME', 'WEEKS', 'PRENATAL', 'VISITS', 'WEIGHT', 'MARITAL', 'ATTEND', 'RECORD', 'CHILDREN', 'FDATE', 'FMONTH', 'FYEAR', 'RACEMOM', 'RACEDAD', 'CIGNUM', 'DRINKNUM', 'GAINED', 'ANEMIA', 'CARDIAC', 'ACLUNG', 'DIABETES', 'HERPES', 'HYDRAM', 'HEMOGLOB', 'HYPERCH', 'HYPERPR', 'ECLAMP', 'CERVIX', 'PINFANT', 'PRETERM', 'RENAL', 'RHSEN', 'UTERINE', 'OTHMED', 'AMNIO', 'MONITOR', 'INDUCT', 'STIMULA', 'TOCOLY', 'ULTRA', 'OTHPROC', 'FEBRILE', 'MECONIUM', 'RUPTURE', 'ABRUPTIO', 'PREVIA', 'BLEEDING', 'SEIZURES', 'PRECLAB', 'PROLAB', 'DYSLAB', 'BREECH', 'CEPHALO', 'PROLAPSE', 'ANESTH', 'DISTRESS', 'OTHLABOR', 'VAGINAL', 'VAGCSECT', 'PRCSECT', 'RECSECT', 'FORCEPS', 'VACUUM', 'KOTEL', 'ANENCEPH', 'SPINABIF', 'HYDROCEP', 'MICROCEP', 'OTHCNS', 'HEARTMAL', 'OTHCIRC', 'RECTALAT', 'FISTULA', 'OMPHALOC', 'OTHGAST', 'MALGEN', 'RANGENE', 'OTHURO', 'CLEFT', 'POLYDACT', 'CLUBFOOT', 'DHERNIA', 'OTHMS', 'DOWNS', 'OTHCHROM', 'OTHER', 'BCWEEKS', 'APGAR1', 'APGAR5', 'KESSNER', 'INFANTTR', 'MOTHERTR', 'IANEMIA', 'BINJURY', 'FAS', 'HYALINE', 'ASPIRATE', 'VENTLESS', 'VENTMORE', 'ISEIZURE', 'OTHINF']\n",
      "This is the target\n",
      "0         4.0625\n",
      "1         8.1875\n",
      "2         9.0000\n",
      "3         7.3750\n",
      "4         9.4375\n",
      "           ...  \n",
      "133417    6.5000\n",
      "133418    9.1250\n",
      "133419    8.4375\n",
      "133420    5.8125\n",
      "133421    7.1875\n",
      "Length: 133422, dtype: float64\n"
     ]
    }
   ],
   "source": [
    "# process the data\n",
    "import pandas as pd\n",
    "data = pd.read_csv(\"2008_births.csv\")\n",
    "\n",
    "import numpy as np \n",
    "from sklearn.model_selection import train_test_split\n",
    "\n",
    "#birthweight in pounds is what we want to predict - change this to single target \n",
    "birth_weight = data[['BPOUND', 'BOUNCE']]\n",
    "birth_pounds = []\n",
    "for baby in birth_weight:\n",
    "    birth_pounds = birth_weight['BPOUND'] + birth_weight['BOUNCE']*0.0625\n",
    "\n",
    "data_drop = data.drop([\"BDATE\", \"HISPMOM\", \"HISPDAD\", \"BOUNCE\", \"BPOUND\"], axis = 1) #axis = 1 means to drop column not row\n",
    "#get a list of columns in pandas object \n",
    "names_of_data = data_drop.columns.tolist()\n",
    "print(\"This are the columns of the features used\")\n",
    "print(names_of_data)\n",
    "print(\"This is the target\")\n",
    "print(birth_pounds)"
   ]
  },
  {
   "cell_type": "code",
   "execution_count": 9,
   "metadata": {},
   "outputs": [],
   "source": [
    "# split the data\n",
    "# shuffle = false prevents data split being different everytime\n",
    "X_train, X_test, y_train, y_test = train_test_split(data_drop, birth_pounds, test_size = 0.2, shuffle = False)\n",
    "\n",
    "# Normalizing the data\n",
    "from sklearn.preprocessing import StandardScaler\n",
    "sc = StandardScaler()\n",
    "X_train = sc.fit_transform(X_train)\n",
    "X_test = sc.transform(X_test)\n",
    "\n",
    "# running the actual PCA\n",
    "from sklearn.decomposition import PCA\n",
    "\n",
    "pca = PCA()\n",
    "X_train = pca.fit_transform(X_train)\n",
    "X_test = pca.transform(X_test)\n",
    "\n",
    "y_train = y_train.astype('int')\n",
    "y_test = y_test.astype('int').to_numpy().ravel()"
   ]
  },
  {
   "cell_type": "code",
   "execution_count": 10,
   "metadata": {},
   "outputs": [
    {
     "name": "stdout",
     "output_type": "stream",
     "text": [
      "This is the R squared value\n"
     ]
    },
    {
     "data": {
      "text/plain": [
       "-6.811422122473435e+22"
      ]
     },
     "execution_count": 10,
     "metadata": {},
     "output_type": "execute_result"
    }
   ],
   "source": [
    "# Perform linear regression\n",
    "\n",
    "from sklearn import linear_model\n",
    "model = linear_model.LinearRegression()\n",
    "model.fit(X_train, y_train)\n",
    "y_pred = model.predict(X_test)\n",
    "print(\"This is the R squared value\")\n",
    "model.score(X_test, y_test)"
   ]
  },
  {
   "cell_type": "code",
   "execution_count": 11,
   "metadata": {},
   "outputs": [
    {
     "name": "stdout",
     "output_type": "stream",
     "text": [
      "This is mean squared error\n"
     ]
    },
    {
     "data": {
      "text/plain": [
       "3.8237986426105e+23"
      ]
     },
     "execution_count": 11,
     "metadata": {},
     "output_type": "execute_result"
    }
   ],
   "source": [
    "from sklearn.metrics import mean_squared_error\n",
    "mse = mean_squared_error(y_test, y_pred)\n",
    "print(\"This is mean squared error\")\n",
    "mse"
   ]
  }
 ],
 "metadata": {
  "kernelspec": {
   "display_name": "Python 3",
   "language": "python",
   "name": "python3"
  },
  "language_info": {
   "codemirror_mode": {
    "name": "ipython",
    "version": 3
   },
   "file_extension": ".py",
   "mimetype": "text/x-python",
   "name": "python",
   "nbconvert_exporter": "python",
   "pygments_lexer": "ipython3",
   "version": "3.8.5"
  }
 },
 "nbformat": 4,
 "nbformat_minor": 4
}
