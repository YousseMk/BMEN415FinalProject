{
 "cells": [
  {
   "cell_type": "markdown",
   "metadata": {},
   "source": [
    "# Alzheimer Classification\n",
    "## Stochastic Gradient Descent"
   ]
  },
  {
   "cell_type": "code",
   "execution_count": 1,
   "metadata": {},
   "outputs": [],
   "source": [
    "import pandas as pd \n",
    "data = pd.read_csv(\"Alzheimer's.csv\")\n",
    "#Converted the group to dummy variables\n",
    "data.loc[data.Group=='Nondemented', 'Group'] = 0\n",
    "data.loc[data.Group=='Demented', 'Group'] = 1\n",
    "data.loc[data.Group=='Converted', 'Group'] = 2\n",
    "\n",
    "#Converted the M/F to dummy variables\n",
    "data.loc[data.Sex=='M', 'Sex'] = 0\n",
    "data.loc[data.Sex=='F', 'Sex'] = 1\n",
    "import numpy as np \n",
    "from sklearn.model_selection import train_test_split\n",
    "\n",
    "#Attempting PCA on data\n",
    "#Hand is completely useless as it is identical for all samples\n",
    "data_drop = data.drop(['Hand','Visit','Subject ID','MRI ID'], axis = 1) #axis = 1 means to drop column not row\n",
    "\n",
    "#get rid of row 360 and 359 bc they are missing alot of data (both SES and MMS)\n",
    "data_drop = data_drop.drop([360, 359])\n",
    "\n",
    "\n",
    "#delete all data points that dont have SES in them (this is where they have NaN)\n",
    "data_drop = data_drop.dropna()\n",
    "group = data_drop[['Group']] \n",
    "# give it a label type\n",
    "group = group.astype('int')\n",
    "\n",
    "#dementia status is what we want to predict - change this to single target \n",
    "data_drop = data_drop.drop(['Group'], axis = 1) #axis = 1 means to drop column not row\n",
    "#get a list of columns in pandas object \n",
    "names_of_data = data_drop.columns.tolist()"
   ]
  },
  {
   "cell_type": "code",
   "execution_count": 2,
   "metadata": {},
   "outputs": [
    {
     "data": {
      "text/plain": [
       "MR Delay                                 652\n",
       "Sex                                        0\n",
       "Age                                       81\n",
       "EDUC                                      20\n",
       "SES                                        1\n",
       "Mini Mental State                         26\n",
       "Clinical Dementia Rating                 0.5\n",
       "Estimated total Intracranial Volume     1556\n",
       "Normalize Whole Brain Volume           0.691\n",
       "Atlas Scaling Factor                   1.128\n",
       "Name: 355, dtype: object"
      ]
     },
     "execution_count": 2,
     "metadata": {},
     "output_type": "execute_result"
    }
   ],
   "source": [
    "# split the data\n",
    "\n",
    "#shuffle = false prevents data split being different everytime\n",
    "X_train, X_test, y_train, y_test = train_test_split(data_drop, group, test_size=0.2, shuffle = False)\n",
    "\n",
    "#split test into validate and test, again making sure the data is always the same for consistency\n",
    "X_test, X_val, y_test, y_val = train_test_split(X_train, y_train, test_size=0.25, shuffle = False)\n",
    "\n",
    "#Normalizing the data\n",
    "from sklearn.preprocessing import StandardScaler\n",
    "sc = StandardScaler()\n",
    "X_train = sc.fit_transform(X_train)\n",
    "X_test = sc.transform(X_test)\n",
    "\n",
    "#running the actual PCA\n",
    "from sklearn.decomposition import PCA\n",
    "\n",
    "pca = PCA()\n",
    "X_train = pca.fit_transform(X_train)\n",
    "X_test = pca.transform(X_test)\n",
    "\n",
    "y_train = y_train.astype('int').to_numpy().ravel()\n",
    "y_test = y_test.astype('int').to_numpy().ravel()\n",
    "\n",
    "data_drop.loc[354]\n",
    "data_drop.loc[355]"
   ]
  },
  {
   "cell_type": "code",
   "execution_count": 3,
   "metadata": {},
   "outputs": [
    {
     "name": "stdout",
     "output_type": "stream",
     "text": [
      "0.9198113207547169\n"
     ]
    }
   ],
   "source": [
    "from sklearn.linear_model import SGDClassifier\n",
    "model = SGDClassifier(loss=\"hinge\", penalty=\"l2\", max_iter=100)\n",
    "model.fit(X_train, y_train)\n",
    "#SGDClassifier(max_iter=5)\n",
    "y_pred = model.predict(X_test)\n",
    "from sklearn.metrics import accuracy_score\n",
    "print(accuracy_score(y_test.astype('int'), y_pred))"
   ]
  }
 ],
 "metadata": {
  "kernelspec": {
   "display_name": "Python 3",
   "language": "python",
   "name": "python3"
  },
  "language_info": {
   "codemirror_mode": {
    "name": "ipython",
    "version": 3
   },
   "file_extension": ".py",
   "mimetype": "text/x-python",
   "name": "python",
   "nbconvert_exporter": "python",
   "pygments_lexer": "ipython3",
   "version": "3.8.5"
  }
 },
 "nbformat": 4,
 "nbformat_minor": 4
}
