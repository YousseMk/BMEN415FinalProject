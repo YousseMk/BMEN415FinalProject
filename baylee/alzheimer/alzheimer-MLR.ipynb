{
 "cells": [
  {
   "cell_type": "code",
   "execution_count": 11,
   "metadata": {},
   "outputs": [],
   "source": []
  },
  {
   "cell_type": "code",
   "execution_count": 4,
   "metadata": {},
   "outputs": [
    {
     "data": {
      "text/plain": [
       "3.7658107923912835e-31"
      ]
     },
     "execution_count": 4,
     "metadata": {},
     "output_type": "execute_result"
    }
   ],
   "source": [
    "import pandas as pd \n",
    "data = pd.read_csv(\"Alzheimer's.csv\")\n",
    "#Converted the group to dummy variables\n",
    "data.loc[data.Group=='Nondemented', 'Group'] = 0\n",
    "data.loc[data.Group=='Demented', 'Group'] = 1\n",
    "data.loc[data.Group=='Converted', 'Group'] = 2\n",
    "\n",
    "#Converted the M/F to dummy variables\n",
    "data.loc[data.Sex=='M', 'Sex'] = 0\n",
    "data.loc[data.Sex=='F', 'Sex'] = 1\n",
    "import numpy as np \n",
    "from sklearn.model_selection import train_test_split\n",
    "\n",
    "#Attempting PCA on data\n",
    "#Hand is completely useless as it is identical for all samples\n",
    "data_drop = data.drop(['Hand','Visit','Subject ID','MRI ID'], axis = 1) #axis = 1 means to drop column not row\n",
    "\n",
    "#get rid of row 360 and 359 bc they are missing alot of data (both SES and MMS)\n",
    "data_drop = data_drop.drop([360, 359])\n",
    "\n",
    "\n",
    "#delete all data points that dont have SES in them (this is where they have NaN)\n",
    "data_drop = data_drop.dropna()\n",
    "#dementia status is what we want to predict - change this to single target \n",
    "group = data_drop[['Group']] \n",
    "\n",
    "#get a list of columns in pandas object \n",
    "names_of_data = data_drop.columns.tolist()\n",
    "\n",
    "#shuffle = false prevents data split being different everytime\n",
    "X_train, X_test, y_train, y_test = train_test_split(data_drop, group, test_size=0.2, shuffle = False)\n",
    "\n",
    "#split test into validate and test, again making sure the data is always the same for consistency\n",
    "X_test, X_val, y_test, y_val = train_test_split(X_train, y_train, test_size=0.25, shuffle = False)\n",
    "\n",
    "#Normalizing the data\n",
    "from sklearn.preprocessing import StandardScaler\n",
    "sc = StandardScaler()\n",
    "X_train = sc.fit_transform(X_train)\n",
    "X_test = sc.transform(X_test)\n",
    "\n",
    "#running the actual PCA\n",
    "from sklearn.decomposition import PCA\n",
    "\n",
    "pca = PCA()\n",
    "X_train = pca.fit_transform(X_train)\n",
    "X_test = pca.transform(X_test)\n",
    "\n",
    "data_drop.loc[354]\n",
    "data_drop.loc[355]\n",
    "\n",
    "\n",
    "# X = data[['Age', 'EDUC', 'SES', 'Mini Mental State', 'Estimated total Intracranial Volume', 'Normalize Whole Brain Volume', 'Atlas Scaling Factor']] # X is the list of inputs\n",
    "# y = data['Clinical Dementia Rating'] # y is the list of outputs\n",
    "from sklearn import linear_model\n",
    "model = linear_model.LinearRegression()\n",
    "model.fit(X_train, y_train)\n",
    "y_pred = model.predict(X_test)\n",
    "from sklearn.metrics import mean_squared_error\n",
    "mse = mean_squared_error(y_test, y_pred)\n",
    "mse"
   ]
  },
  {
   "cell_type": "code",
   "execution_count": null,
   "metadata": {},
   "outputs": [],
   "source": []
  }
 ],
 "metadata": {
  "kernelspec": {
   "display_name": "Python 3",
   "language": "python",
   "name": "python3"
  },
  "language_info": {
   "codemirror_mode": {
    "name": "ipython",
    "version": 3
   },
   "file_extension": ".py",
   "mimetype": "text/x-python",
   "name": "python",
   "nbconvert_exporter": "python",
   "pygments_lexer": "ipython3",
   "version": "3.8.5"
  }
 },
 "nbformat": 4,
 "nbformat_minor": 4
}
