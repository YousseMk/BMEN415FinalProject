{
 "cells": [
  {
   "cell_type": "code",
   "execution_count": null,
   "metadata": {},
   "outputs": [],
   "source": [
    "import pandas as pd\n",
    "\n",
    "from sklearn.metrics import mean_squared_error\n",
    "\n",
    "\n",
    "data = pd.read_csv(\"2008_births.csv\")\n",
    "data"
   ]
  },
  {
   "cell_type": "code",
   "execution_count": null,
   "metadata": {},
   "outputs": [],
   "source": [
    "import numpy as np \n",
    "from sklearn.model_selection import train_test_split\n",
    "\n"
   ]
  },
  {
   "cell_type": "code",
   "execution_count": null,
   "metadata": {},
   "outputs": [],
   "source": [
    "#birthweight is what we want to predict - change this to single target \n",
    "birth_weight = data[['BPOUND', 'BOUNCE']] \n",
    "birth_weight"
   ]
  },
  {
   "cell_type": "code",
   "execution_count": null,
   "metadata": {},
   "outputs": [],
   "source": [
    "#PCA might be a good technique to select predictors \n",
    "\n",
    "#note that PCA performs best when data is normalized (range b/w 0 and 1)\n",
    "\n",
    "#It is possible to use categorical and continuous predictors \n",
    "#for a regression problem. My understanding is you need to make \n",
    "#dummy variables for the binary predictors. \n",
    "\n",
    "#Variables that we will need to deal with: \n",
    "# BDATE, HISPMOM, HISPDAD"
   ]
  },
  {
   "cell_type": "code",
   "execution_count": null,
   "metadata": {},
   "outputs": [],
   "source": [
    "#Attempting PCA on data\n",
    "#for now I drop the BDATE, HISPMOM AND HISPDAD\n",
    "data_drop = data.drop([\"BDATE\", \"HISPMOM\", \"HISPDAD\", \"BOUNCE\", \"BPOUND\"], axis = 1) #axis = 1 means to drop column not row"
   ]
  },
  {
   "cell_type": "code",
   "execution_count": null,
   "metadata": {},
   "outputs": [],
   "source": [
    "#get a list of columns in pandas object \n",
    "names_of_data = data_drop.columns.tolist()\n",
    "\n",
    "#shuffle = false prevents data split being different everytime\n",
    "X_train, X_test, y_train, y_test = train_test_split(data_drop, birth_weight, test_size = 0.2, shuffle = False)\n",
    "\n",
    "#split test into validate and test, again making sure the data is always the same for consistency\n",
    "#X_test, X_val, y_test, y_val = train_test_split(X_test, y_test, test_size=0.25, shuffle = False)\n",
    "\n",
    "#Normalizing the data\n",
    "from sklearn.preprocessing import StandardScaler\n",
    "sc = StandardScaler()\n",
    "X_train = sc.fit_transform(X_train)\n",
    "X_test = sc.transform(X_test)\n",
    "\n",
    "#running the actual PCA\n",
    "from sklearn.decomposition import PCA\n",
    "\n",
    "pca = PCA()\n",
    "X_train = pca.fit_transform(X_train)\n",
    "X_test = pca.transform(X_test)\n",
    "\n",
    "#relief f algorithm - sorting features "
   ]
  },
  {
   "cell_type": "code",
   "execution_count": null,
   "metadata": {},
   "outputs": [],
   "source": [
    "explained_variance = pca.explained_variance_ratio_\n",
    "print(len(explained_variance))\n",
    "print(explained_variance)"
   ]
  },
  {
   "cell_type": "code",
   "execution_count": null,
   "metadata": {},
   "outputs": [],
   "source": [
    "#Explained variance prints the variance each principal component contributes.\n",
    "#As we can see, the last 5 contribute very little (maybe we can get rid of?)\n",
    "\n",
    "#We also want to check for linearity between the input predictors and the output \n",
    "#If there is high colinearity, then we want to use ridge regression - A variant of lin regression that has regulatization\n",
    "\n",
    "#Correlation indicates strength and direction of a linear relationship. let's use this on the predictors "
   ]
  },
  {
   "cell_type": "code",
   "execution_count": null,
   "metadata": {},
   "outputs": [],
   "source": [
    "# Output of Y into pounds by adding the pounds and ounces as pounds\n",
    "\n",
    "y_train = y_train['BPOUND'] + y_train['BOUNCE']*0.0625\n",
    "y_test = y_test['BPOUND'] + y_test['BOUNCE']*0.0625"
   ]
  },
  {
   "cell_type": "code",
   "execution_count": null,
   "metadata": {},
   "outputs": [],
   "source": [
    "#Beginning of Random Forest Dataset\n",
    "#https://heartbeat.fritz.ai/random-forest-regression-in-python-using-scikit-learn-9e9b147e2153\n",
    "\n",
    "from sklearn.model_selection import train_test_split\n",
    "from sklearn.ensemble import RandomForestRegressor\n",
    "from sklearn.metrics import r2_score,mean_squared_error\n",
    "import seaborn as sns\n"
   ]
  },
  {
   "cell_type": "code",
   "execution_count": null,
   "metadata": {},
   "outputs": [],
   "source": [
    "\n",
    "RandomForestRegModel = RandomForestRegressor()\n",
    "RandomForestRegModel.fit(X_train,y_train)"
   ]
  },
  {
   "cell_type": "code",
   "execution_count": null,
   "metadata": {},
   "outputs": [],
   "source": [
    "y_pred = RandomForestRegModel.predict(X_test)\n",
    "print(y_pred)"
   ]
  },
  {
   "cell_type": "code",
   "execution_count": null,
   "metadata": {},
   "outputs": [],
   "source": []
  }
 ],
 "metadata": {
  "kernelspec": {
   "display_name": "Python 3",
   "language": "python",
   "name": "python3"
  },
  "language_info": {
   "codemirror_mode": {
    "name": "ipython",
    "version": 3
   },
   "file_extension": ".py",
   "mimetype": "text/x-python",
   "name": "python",
   "nbconvert_exporter": "python",
   "pygments_lexer": "ipython3",
   "version": "3.8.5"
  }
 },
 "nbformat": 4,
 "nbformat_minor": 4
}
